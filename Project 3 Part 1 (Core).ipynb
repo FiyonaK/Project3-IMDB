{
 "cells": [
  {
   "cell_type": "code",
   "execution_count": 283,
   "id": "2aace359-ef5d-457c-b124-916ef9943b94",
   "metadata": {},
   "outputs": [],
   "source": [
    "import pandas as pd\n",
    "import numpy as np\n",
    "\n",
    "import warnings\n",
    "warnings.filterwarnings(\"ignore\")"
   ]
  },
  {
   "cell_type": "code",
   "execution_count": 284,
   "id": "ca286368-90c3-4470-9a13-25d8b4131aed",
   "metadata": {},
   "outputs": [],
   "source": [
    "basics_url = \"https://datasets.imdbws.com/title.basics.tsv.gz\"\n",
    "ratings_url = \"https://datasets.imdbws.com/title.ratings.tsv.gz\"\n",
    "akas_url = \"https://datasets.imdbws.com/title.akas.tsv.gz\""
   ]
  },
  {
   "cell_type": "code",
   "execution_count": 285,
   "id": "86605f6c-712a-4760-8bab-fc473a779da7",
   "metadata": {},
   "outputs": [
    {
     "data": {
      "text/html": [
       "<div>\n",
       "<style scoped>\n",
       "    .dataframe tbody tr th:only-of-type {\n",
       "        vertical-align: middle;\n",
       "    }\n",
       "\n",
       "    .dataframe tbody tr th {\n",
       "        vertical-align: top;\n",
       "    }\n",
       "\n",
       "    .dataframe thead th {\n",
       "        text-align: right;\n",
       "    }\n",
       "</style>\n",
       "<table border=\"1\" class=\"dataframe\">\n",
       "  <thead>\n",
       "    <tr style=\"text-align: right;\">\n",
       "      <th></th>\n",
       "      <th>tconst</th>\n",
       "      <th>titleType</th>\n",
       "      <th>primaryTitle</th>\n",
       "      <th>originalTitle</th>\n",
       "      <th>isAdult</th>\n",
       "      <th>startYear</th>\n",
       "      <th>endYear</th>\n",
       "      <th>runtimeMinutes</th>\n",
       "      <th>genres</th>\n",
       "    </tr>\n",
       "  </thead>\n",
       "  <tbody>\n",
       "    <tr>\n",
       "      <th>0</th>\n",
       "      <td>tt0000001</td>\n",
       "      <td>short</td>\n",
       "      <td>Carmencita</td>\n",
       "      <td>Carmencita</td>\n",
       "      <td>0</td>\n",
       "      <td>1894</td>\n",
       "      <td>\\N</td>\n",
       "      <td>1</td>\n",
       "      <td>Documentary,Short</td>\n",
       "    </tr>\n",
       "    <tr>\n",
       "      <th>1</th>\n",
       "      <td>tt0000002</td>\n",
       "      <td>short</td>\n",
       "      <td>Le clown et ses chiens</td>\n",
       "      <td>Le clown et ses chiens</td>\n",
       "      <td>0</td>\n",
       "      <td>1892</td>\n",
       "      <td>\\N</td>\n",
       "      <td>5</td>\n",
       "      <td>Animation,Short</td>\n",
       "    </tr>\n",
       "    <tr>\n",
       "      <th>2</th>\n",
       "      <td>tt0000003</td>\n",
       "      <td>short</td>\n",
       "      <td>Pauvre Pierrot</td>\n",
       "      <td>Pauvre Pierrot</td>\n",
       "      <td>0</td>\n",
       "      <td>1892</td>\n",
       "      <td>\\N</td>\n",
       "      <td>4</td>\n",
       "      <td>Animation,Comedy,Romance</td>\n",
       "    </tr>\n",
       "    <tr>\n",
       "      <th>3</th>\n",
       "      <td>tt0000004</td>\n",
       "      <td>short</td>\n",
       "      <td>Un bon bock</td>\n",
       "      <td>Un bon bock</td>\n",
       "      <td>0</td>\n",
       "      <td>1892</td>\n",
       "      <td>\\N</td>\n",
       "      <td>12</td>\n",
       "      <td>Animation,Short</td>\n",
       "    </tr>\n",
       "    <tr>\n",
       "      <th>4</th>\n",
       "      <td>tt0000005</td>\n",
       "      <td>short</td>\n",
       "      <td>Blacksmith Scene</td>\n",
       "      <td>Blacksmith Scene</td>\n",
       "      <td>0</td>\n",
       "      <td>1893</td>\n",
       "      <td>\\N</td>\n",
       "      <td>1</td>\n",
       "      <td>Comedy,Short</td>\n",
       "    </tr>\n",
       "  </tbody>\n",
       "</table>\n",
       "</div>"
      ],
      "text/plain": [
       "      tconst titleType            primaryTitle           originalTitle  \\\n",
       "0  tt0000001     short              Carmencita              Carmencita   \n",
       "1  tt0000002     short  Le clown et ses chiens  Le clown et ses chiens   \n",
       "2  tt0000003     short          Pauvre Pierrot          Pauvre Pierrot   \n",
       "3  tt0000004     short             Un bon bock             Un bon bock   \n",
       "4  tt0000005     short        Blacksmith Scene        Blacksmith Scene   \n",
       "\n",
       "  isAdult startYear endYear runtimeMinutes                    genres  \n",
       "0       0      1894      \\N              1         Documentary,Short  \n",
       "1       0      1892      \\N              5           Animation,Short  \n",
       "2       0      1892      \\N              4  Animation,Comedy,Romance  \n",
       "3       0      1892      \\N             12           Animation,Short  \n",
       "4       0      1893      \\N              1              Comedy,Short  "
      ]
     },
     "execution_count": 285,
     "metadata": {},
     "output_type": "execute_result"
    }
   ],
   "source": [
    "df_basics = pd.read_csv(basics_url, sep='\\t', low_memory=False)\n",
    "df_basics.head()"
   ]
  },
  {
   "cell_type": "code",
   "execution_count": 286,
   "id": "416f8e40-6f3c-4d5d-a009-eee6e73e7ba7",
   "metadata": {},
   "outputs": [
    {
     "data": {
      "text/html": [
       "<div>\n",
       "<style scoped>\n",
       "    .dataframe tbody tr th:only-of-type {\n",
       "        vertical-align: middle;\n",
       "    }\n",
       "\n",
       "    .dataframe tbody tr th {\n",
       "        vertical-align: top;\n",
       "    }\n",
       "\n",
       "    .dataframe thead th {\n",
       "        text-align: right;\n",
       "    }\n",
       "</style>\n",
       "<table border=\"1\" class=\"dataframe\">\n",
       "  <thead>\n",
       "    <tr style=\"text-align: right;\">\n",
       "      <th></th>\n",
       "      <th>tconst</th>\n",
       "      <th>averageRating</th>\n",
       "      <th>numVotes</th>\n",
       "    </tr>\n",
       "  </thead>\n",
       "  <tbody>\n",
       "    <tr>\n",
       "      <th>0</th>\n",
       "      <td>tt0000001</td>\n",
       "      <td>5.7</td>\n",
       "      <td>2002</td>\n",
       "    </tr>\n",
       "    <tr>\n",
       "      <th>1</th>\n",
       "      <td>tt0000002</td>\n",
       "      <td>5.8</td>\n",
       "      <td>269</td>\n",
       "    </tr>\n",
       "    <tr>\n",
       "      <th>2</th>\n",
       "      <td>tt0000003</td>\n",
       "      <td>6.5</td>\n",
       "      <td>1894</td>\n",
       "    </tr>\n",
       "    <tr>\n",
       "      <th>3</th>\n",
       "      <td>tt0000004</td>\n",
       "      <td>5.5</td>\n",
       "      <td>178</td>\n",
       "    </tr>\n",
       "    <tr>\n",
       "      <th>4</th>\n",
       "      <td>tt0000005</td>\n",
       "      <td>6.2</td>\n",
       "      <td>2678</td>\n",
       "    </tr>\n",
       "  </tbody>\n",
       "</table>\n",
       "</div>"
      ],
      "text/plain": [
       "      tconst  averageRating  numVotes\n",
       "0  tt0000001            5.7      2002\n",
       "1  tt0000002            5.8       269\n",
       "2  tt0000003            6.5      1894\n",
       "3  tt0000004            5.5       178\n",
       "4  tt0000005            6.2      2678"
      ]
     },
     "execution_count": 286,
     "metadata": {},
     "output_type": "execute_result"
    }
   ],
   "source": [
    "df_ratings = pd.read_csv(ratings_url, sep='\\t', low_memory=False)\n",
    "df_ratings.head()"
   ]
  },
  {
   "cell_type": "code",
   "execution_count": 287,
   "id": "6ecd217c-acbd-4de1-8368-b5888003c719",
   "metadata": {},
   "outputs": [
    {
     "data": {
      "text/html": [
       "<div>\n",
       "<style scoped>\n",
       "    .dataframe tbody tr th:only-of-type {\n",
       "        vertical-align: middle;\n",
       "    }\n",
       "\n",
       "    .dataframe tbody tr th {\n",
       "        vertical-align: top;\n",
       "    }\n",
       "\n",
       "    .dataframe thead th {\n",
       "        text-align: right;\n",
       "    }\n",
       "</style>\n",
       "<table border=\"1\" class=\"dataframe\">\n",
       "  <thead>\n",
       "    <tr style=\"text-align: right;\">\n",
       "      <th></th>\n",
       "      <th>titleId</th>\n",
       "      <th>ordering</th>\n",
       "      <th>title</th>\n",
       "      <th>region</th>\n",
       "      <th>language</th>\n",
       "      <th>types</th>\n",
       "      <th>attributes</th>\n",
       "      <th>isOriginalTitle</th>\n",
       "    </tr>\n",
       "  </thead>\n",
       "  <tbody>\n",
       "    <tr>\n",
       "      <th>0</th>\n",
       "      <td>tt0000001</td>\n",
       "      <td>1</td>\n",
       "      <td>Карменсіта</td>\n",
       "      <td>UA</td>\n",
       "      <td>\\N</td>\n",
       "      <td>imdbDisplay</td>\n",
       "      <td>\\N</td>\n",
       "      <td>0</td>\n",
       "    </tr>\n",
       "    <tr>\n",
       "      <th>1</th>\n",
       "      <td>tt0000001</td>\n",
       "      <td>2</td>\n",
       "      <td>Carmencita</td>\n",
       "      <td>DE</td>\n",
       "      <td>\\N</td>\n",
       "      <td>\\N</td>\n",
       "      <td>literal title</td>\n",
       "      <td>0</td>\n",
       "    </tr>\n",
       "    <tr>\n",
       "      <th>2</th>\n",
       "      <td>tt0000001</td>\n",
       "      <td>3</td>\n",
       "      <td>Carmencita - spanyol tánc</td>\n",
       "      <td>HU</td>\n",
       "      <td>\\N</td>\n",
       "      <td>imdbDisplay</td>\n",
       "      <td>\\N</td>\n",
       "      <td>0</td>\n",
       "    </tr>\n",
       "    <tr>\n",
       "      <th>3</th>\n",
       "      <td>tt0000001</td>\n",
       "      <td>4</td>\n",
       "      <td>Καρμενσίτα</td>\n",
       "      <td>GR</td>\n",
       "      <td>\\N</td>\n",
       "      <td>imdbDisplay</td>\n",
       "      <td>\\N</td>\n",
       "      <td>0</td>\n",
       "    </tr>\n",
       "    <tr>\n",
       "      <th>4</th>\n",
       "      <td>tt0000001</td>\n",
       "      <td>5</td>\n",
       "      <td>Карменсита</td>\n",
       "      <td>RU</td>\n",
       "      <td>\\N</td>\n",
       "      <td>imdbDisplay</td>\n",
       "      <td>\\N</td>\n",
       "      <td>0</td>\n",
       "    </tr>\n",
       "  </tbody>\n",
       "</table>\n",
       "</div>"
      ],
      "text/plain": [
       "     titleId  ordering                      title region language  \\\n",
       "0  tt0000001         1                 Карменсіта     UA       \\N   \n",
       "1  tt0000001         2                 Carmencita     DE       \\N   \n",
       "2  tt0000001         3  Carmencita - spanyol tánc     HU       \\N   \n",
       "3  tt0000001         4                 Καρμενσίτα     GR       \\N   \n",
       "4  tt0000001         5                 Карменсита     RU       \\N   \n",
       "\n",
       "         types     attributes isOriginalTitle  \n",
       "0  imdbDisplay             \\N               0  \n",
       "1           \\N  literal title               0  \n",
       "2  imdbDisplay             \\N               0  \n",
       "3  imdbDisplay             \\N               0  \n",
       "4  imdbDisplay             \\N               0  "
      ]
     },
     "execution_count": 287,
     "metadata": {},
     "output_type": "execute_result"
    }
   ],
   "source": [
    "df_akas = pd.read_csv(akas_url, sep='\\t', low_memory=False)\n",
    "df_akas.head()"
   ]
  },
  {
   "cell_type": "code",
   "execution_count": 288,
   "id": "31c355be-ce75-4b12-96a5-7037f64c1b5c",
   "metadata": {},
   "outputs": [
    {
     "data": {
      "text/html": [
       "<div>\n",
       "<style scoped>\n",
       "    .dataframe tbody tr th:only-of-type {\n",
       "        vertical-align: middle;\n",
       "    }\n",
       "\n",
       "    .dataframe tbody tr th {\n",
       "        vertical-align: top;\n",
       "    }\n",
       "\n",
       "    .dataframe thead th {\n",
       "        text-align: right;\n",
       "    }\n",
       "</style>\n",
       "<table border=\"1\" class=\"dataframe\">\n",
       "  <thead>\n",
       "    <tr style=\"text-align: right;\">\n",
       "      <th></th>\n",
       "      <th>tconst</th>\n",
       "      <th>titleType</th>\n",
       "      <th>primaryTitle</th>\n",
       "      <th>originalTitle</th>\n",
       "      <th>isAdult</th>\n",
       "      <th>startYear</th>\n",
       "      <th>endYear</th>\n",
       "      <th>runtimeMinutes</th>\n",
       "      <th>genres</th>\n",
       "    </tr>\n",
       "  </thead>\n",
       "  <tbody>\n",
       "    <tr>\n",
       "      <th>0</th>\n",
       "      <td>tt0000001</td>\n",
       "      <td>short</td>\n",
       "      <td>Carmencita</td>\n",
       "      <td>Carmencita</td>\n",
       "      <td>0</td>\n",
       "      <td>1894</td>\n",
       "      <td>NaN</td>\n",
       "      <td>1</td>\n",
       "      <td>Documentary,Short</td>\n",
       "    </tr>\n",
       "    <tr>\n",
       "      <th>1</th>\n",
       "      <td>tt0000002</td>\n",
       "      <td>short</td>\n",
       "      <td>Le clown et ses chiens</td>\n",
       "      <td>Le clown et ses chiens</td>\n",
       "      <td>0</td>\n",
       "      <td>1892</td>\n",
       "      <td>NaN</td>\n",
       "      <td>5</td>\n",
       "      <td>Animation,Short</td>\n",
       "    </tr>\n",
       "    <tr>\n",
       "      <th>2</th>\n",
       "      <td>tt0000003</td>\n",
       "      <td>short</td>\n",
       "      <td>Pauvre Pierrot</td>\n",
       "      <td>Pauvre Pierrot</td>\n",
       "      <td>0</td>\n",
       "      <td>1892</td>\n",
       "      <td>NaN</td>\n",
       "      <td>4</td>\n",
       "      <td>Animation,Comedy,Romance</td>\n",
       "    </tr>\n",
       "    <tr>\n",
       "      <th>3</th>\n",
       "      <td>tt0000004</td>\n",
       "      <td>short</td>\n",
       "      <td>Un bon bock</td>\n",
       "      <td>Un bon bock</td>\n",
       "      <td>0</td>\n",
       "      <td>1892</td>\n",
       "      <td>NaN</td>\n",
       "      <td>12</td>\n",
       "      <td>Animation,Short</td>\n",
       "    </tr>\n",
       "    <tr>\n",
       "      <th>4</th>\n",
       "      <td>tt0000005</td>\n",
       "      <td>short</td>\n",
       "      <td>Blacksmith Scene</td>\n",
       "      <td>Blacksmith Scene</td>\n",
       "      <td>0</td>\n",
       "      <td>1893</td>\n",
       "      <td>NaN</td>\n",
       "      <td>1</td>\n",
       "      <td>Comedy,Short</td>\n",
       "    </tr>\n",
       "  </tbody>\n",
       "</table>\n",
       "</div>"
      ],
      "text/plain": [
       "      tconst titleType            primaryTitle           originalTitle  \\\n",
       "0  tt0000001     short              Carmencita              Carmencita   \n",
       "1  tt0000002     short  Le clown et ses chiens  Le clown et ses chiens   \n",
       "2  tt0000003     short          Pauvre Pierrot          Pauvre Pierrot   \n",
       "3  tt0000004     short             Un bon bock             Un bon bock   \n",
       "4  tt0000005     short        Blacksmith Scene        Blacksmith Scene   \n",
       "\n",
       "  isAdult startYear endYear runtimeMinutes                    genres  \n",
       "0       0      1894     NaN              1         Documentary,Short  \n",
       "1       0      1892     NaN              5           Animation,Short  \n",
       "2       0      1892     NaN              4  Animation,Comedy,Romance  \n",
       "3       0      1892     NaN             12           Animation,Short  \n",
       "4       0      1893     NaN              1              Comedy,Short  "
      ]
     },
     "execution_count": 288,
     "metadata": {},
     "output_type": "execute_result"
    }
   ],
   "source": [
    "#Basics\n",
    "#Replace \"\\N\" with np.nan\n",
    "df_basics.replace({'\\\\N':np.nan}, inplace = True)\n",
    "df_basics.head()"
   ]
  },
  {
   "cell_type": "code",
   "execution_count": 289,
   "id": "e723348b-f1bd-4cce-b14d-05e7cb8566e5",
   "metadata": {},
   "outputs": [
    {
     "data": {
      "text/plain": [
       "tconst                   0\n",
       "titleType                0\n",
       "primaryTitle            11\n",
       "originalTitle           11\n",
       "isAdult                  1\n",
       "startYear          1370289\n",
       "endYear           10134918\n",
       "runtimeMinutes     7158084\n",
       "genres              458487\n",
       "dtype: int64"
      ]
     },
     "execution_count": 289,
     "metadata": {},
     "output_type": "execute_result"
    }
   ],
   "source": [
    "df_basics.isna().sum()"
   ]
  },
  {
   "cell_type": "code",
   "execution_count": 290,
   "id": "3d90c8f3-2fb7-4c13-b9d4-cc19867c3c43",
   "metadata": {},
   "outputs": [
    {
     "name": "stdout",
     "output_type": "stream",
     "text": [
      "<class 'pandas.core.frame.DataFrame'>\n",
      "RangeIndex: 10248781 entries, 0 to 10248780\n",
      "Data columns (total 9 columns):\n",
      " #   Column          Dtype \n",
      "---  ------          ----- \n",
      " 0   tconst          object\n",
      " 1   titleType       object\n",
      " 2   primaryTitle    object\n",
      " 3   originalTitle   object\n",
      " 4   isAdult         object\n",
      " 5   startYear       object\n",
      " 6   endYear         object\n",
      " 7   runtimeMinutes  object\n",
      " 8   genres          object\n",
      "dtypes: object(9)\n",
      "memory usage: 703.7+ MB\n"
     ]
    }
   ],
   "source": [
    "df_basics.info()"
   ]
  },
  {
   "cell_type": "code",
   "execution_count": 291,
   "id": "9b42998e-7d6c-4714-87c0-ca47eb3106b9",
   "metadata": {},
   "outputs": [
    {
     "data": {
      "text/html": [
       "<div>\n",
       "<style scoped>\n",
       "    .dataframe tbody tr th:only-of-type {\n",
       "        vertical-align: middle;\n",
       "    }\n",
       "\n",
       "    .dataframe tbody tr th {\n",
       "        vertical-align: top;\n",
       "    }\n",
       "\n",
       "    .dataframe thead th {\n",
       "        text-align: right;\n",
       "    }\n",
       "</style>\n",
       "<table border=\"1\" class=\"dataframe\">\n",
       "  <thead>\n",
       "    <tr style=\"text-align: right;\">\n",
       "      <th></th>\n",
       "      <th>tconst</th>\n",
       "      <th>titleType</th>\n",
       "      <th>primaryTitle</th>\n",
       "      <th>originalTitle</th>\n",
       "      <th>isAdult</th>\n",
       "      <th>startYear</th>\n",
       "      <th>endYear</th>\n",
       "      <th>runtimeMinutes</th>\n",
       "      <th>genres</th>\n",
       "    </tr>\n",
       "  </thead>\n",
       "  <tbody>\n",
       "    <tr>\n",
       "      <th>18</th>\n",
       "      <td>tt0000019</td>\n",
       "      <td>short</td>\n",
       "      <td>The Clown Barber</td>\n",
       "      <td>The Clown Barber</td>\n",
       "      <td>0</td>\n",
       "      <td>1898</td>\n",
       "      <td>NaN</td>\n",
       "      <td>NaN</td>\n",
       "      <td>Comedy,Short</td>\n",
       "    </tr>\n",
       "    <tr>\n",
       "      <th>22</th>\n",
       "      <td>tt0000024</td>\n",
       "      <td>short</td>\n",
       "      <td>Opening of the Kiel Canal</td>\n",
       "      <td>Opening of the Kiel Canal</td>\n",
       "      <td>0</td>\n",
       "      <td>1895</td>\n",
       "      <td>NaN</td>\n",
       "      <td>NaN</td>\n",
       "      <td>News,Short</td>\n",
       "    </tr>\n",
       "    <tr>\n",
       "      <th>23</th>\n",
       "      <td>tt0000025</td>\n",
       "      <td>short</td>\n",
       "      <td>The Oxford and Cambridge University Boat Race</td>\n",
       "      <td>The Oxford and Cambridge University Boat Race</td>\n",
       "      <td>0</td>\n",
       "      <td>1896</td>\n",
       "      <td>NaN</td>\n",
       "      <td>NaN</td>\n",
       "      <td>News,Short,Sport</td>\n",
       "    </tr>\n",
       "    <tr>\n",
       "      <th>36</th>\n",
       "      <td>tt0000038</td>\n",
       "      <td>short</td>\n",
       "      <td>The Ball Game</td>\n",
       "      <td>The Ball Game</td>\n",
       "      <td>0</td>\n",
       "      <td>1898</td>\n",
       "      <td>NaN</td>\n",
       "      <td>NaN</td>\n",
       "      <td>Documentary,Short,Sport</td>\n",
       "    </tr>\n",
       "    <tr>\n",
       "      <th>37</th>\n",
       "      <td>tt0000039</td>\n",
       "      <td>short</td>\n",
       "      <td>Barnet Horse Fair</td>\n",
       "      <td>Barnet Horse Fair</td>\n",
       "      <td>0</td>\n",
       "      <td>1896</td>\n",
       "      <td>NaN</td>\n",
       "      <td>NaN</td>\n",
       "      <td>Short</td>\n",
       "    </tr>\n",
       "    <tr>\n",
       "      <th>...</th>\n",
       "      <td>...</td>\n",
       "      <td>...</td>\n",
       "      <td>...</td>\n",
       "      <td>...</td>\n",
       "      <td>...</td>\n",
       "      <td>...</td>\n",
       "      <td>...</td>\n",
       "      <td>...</td>\n",
       "      <td>...</td>\n",
       "    </tr>\n",
       "    <tr>\n",
       "      <th>10248774</th>\n",
       "      <td>tt9916844</td>\n",
       "      <td>tvEpisode</td>\n",
       "      <td>Episode #3.15</td>\n",
       "      <td>Episode #3.15</td>\n",
       "      <td>0</td>\n",
       "      <td>2009</td>\n",
       "      <td>NaN</td>\n",
       "      <td>NaN</td>\n",
       "      <td>Action,Drama,Family</td>\n",
       "    </tr>\n",
       "    <tr>\n",
       "      <th>10248775</th>\n",
       "      <td>tt9916846</td>\n",
       "      <td>tvEpisode</td>\n",
       "      <td>Episode #3.18</td>\n",
       "      <td>Episode #3.18</td>\n",
       "      <td>0</td>\n",
       "      <td>2009</td>\n",
       "      <td>NaN</td>\n",
       "      <td>NaN</td>\n",
       "      <td>Action,Drama,Family</td>\n",
       "    </tr>\n",
       "    <tr>\n",
       "      <th>10248776</th>\n",
       "      <td>tt9916848</td>\n",
       "      <td>tvEpisode</td>\n",
       "      <td>Episode #3.17</td>\n",
       "      <td>Episode #3.17</td>\n",
       "      <td>0</td>\n",
       "      <td>2009</td>\n",
       "      <td>NaN</td>\n",
       "      <td>NaN</td>\n",
       "      <td>Action,Drama,Family</td>\n",
       "    </tr>\n",
       "    <tr>\n",
       "      <th>10248777</th>\n",
       "      <td>tt9916850</td>\n",
       "      <td>tvEpisode</td>\n",
       "      <td>Episode #3.19</td>\n",
       "      <td>Episode #3.19</td>\n",
       "      <td>0</td>\n",
       "      <td>2010</td>\n",
       "      <td>NaN</td>\n",
       "      <td>NaN</td>\n",
       "      <td>Action,Drama,Family</td>\n",
       "    </tr>\n",
       "    <tr>\n",
       "      <th>10248778</th>\n",
       "      <td>tt9916852</td>\n",
       "      <td>tvEpisode</td>\n",
       "      <td>Episode #3.20</td>\n",
       "      <td>Episode #3.20</td>\n",
       "      <td>0</td>\n",
       "      <td>2010</td>\n",
       "      <td>NaN</td>\n",
       "      <td>NaN</td>\n",
       "      <td>Action,Drama,Family</td>\n",
       "    </tr>\n",
       "  </tbody>\n",
       "</table>\n",
       "<p>7158084 rows × 9 columns</p>\n",
       "</div>"
      ],
      "text/plain": [
       "             tconst  titleType                                   primaryTitle  \\\n",
       "18        tt0000019      short                               The Clown Barber   \n",
       "22        tt0000024      short                      Opening of the Kiel Canal   \n",
       "23        tt0000025      short  The Oxford and Cambridge University Boat Race   \n",
       "36        tt0000038      short                                  The Ball Game   \n",
       "37        tt0000039      short                              Barnet Horse Fair   \n",
       "...             ...        ...                                            ...   \n",
       "10248774  tt9916844  tvEpisode                                  Episode #3.15   \n",
       "10248775  tt9916846  tvEpisode                                  Episode #3.18   \n",
       "10248776  tt9916848  tvEpisode                                  Episode #3.17   \n",
       "10248777  tt9916850  tvEpisode                                  Episode #3.19   \n",
       "10248778  tt9916852  tvEpisode                                  Episode #3.20   \n",
       "\n",
       "                                          originalTitle isAdult startYear  \\\n",
       "18                                     The Clown Barber       0      1898   \n",
       "22                            Opening of the Kiel Canal       0      1895   \n",
       "23        The Oxford and Cambridge University Boat Race       0      1896   \n",
       "36                                        The Ball Game       0      1898   \n",
       "37                                    Barnet Horse Fair       0      1896   \n",
       "...                                                 ...     ...       ...   \n",
       "10248774                                  Episode #3.15       0      2009   \n",
       "10248775                                  Episode #3.18       0      2009   \n",
       "10248776                                  Episode #3.17       0      2009   \n",
       "10248777                                  Episode #3.19       0      2010   \n",
       "10248778                                  Episode #3.20       0      2010   \n",
       "\n",
       "         endYear runtimeMinutes                   genres  \n",
       "18           NaN            NaN             Comedy,Short  \n",
       "22           NaN            NaN               News,Short  \n",
       "23           NaN            NaN         News,Short,Sport  \n",
       "36           NaN            NaN  Documentary,Short,Sport  \n",
       "37           NaN            NaN                    Short  \n",
       "...          ...            ...                      ...  \n",
       "10248774     NaN            NaN      Action,Drama,Family  \n",
       "10248775     NaN            NaN      Action,Drama,Family  \n",
       "10248776     NaN            NaN      Action,Drama,Family  \n",
       "10248777     NaN            NaN      Action,Drama,Family  \n",
       "10248778     NaN            NaN      Action,Drama,Family  \n",
       "\n",
       "[7158084 rows x 9 columns]"
      ]
     },
     "execution_count": 291,
     "metadata": {},
     "output_type": "execute_result"
    }
   ],
   "source": [
    "df_basics.loc[pd.isnull(df_basics['runtimeMinutes'])]"
   ]
  },
  {
   "cell_type": "code",
   "execution_count": 292,
   "id": "5404382e-af9b-4982-ac6d-2cf2c3c565e1",
   "metadata": {},
   "outputs": [
    {
     "data": {
      "text/plain": [
       "0           False\n",
       "1           False\n",
       "2           False\n",
       "3           False\n",
       "4           False\n",
       "            ...  \n",
       "10248776     True\n",
       "10248777     True\n",
       "10248778     True\n",
       "10248779    False\n",
       "10248780    False\n",
       "Name: runtimeMinutes, Length: 10248781, dtype: bool"
      ]
     },
     "execution_count": 292,
     "metadata": {},
     "output_type": "execute_result"
    }
   ],
   "source": [
    "#Eliminate movies that are null for runtimeMinutes\n",
    "df_basics_rtm_nulls = pd.isnull(df_basics['runtimeMinutes'])\n",
    "df_basics_rtm_nulls"
   ]
  },
  {
   "cell_type": "code",
   "execution_count": 293,
   "id": "7581618d-2e7b-4bdd-b297-1a4c2cfb586a",
   "metadata": {},
   "outputs": [],
   "source": [
    "df_basics = df_basics[~df_basics_rtm_nulls]"
   ]
  },
  {
   "cell_type": "code",
   "execution_count": 294,
   "id": "56d4abe1-4dbc-41f2-a6de-6c3a7a7d16b2",
   "metadata": {},
   "outputs": [
    {
     "data": {
      "text/html": [
       "<div>\n",
       "<style scoped>\n",
       "    .dataframe tbody tr th:only-of-type {\n",
       "        vertical-align: middle;\n",
       "    }\n",
       "\n",
       "    .dataframe tbody tr th {\n",
       "        vertical-align: top;\n",
       "    }\n",
       "\n",
       "    .dataframe thead th {\n",
       "        text-align: right;\n",
       "    }\n",
       "</style>\n",
       "<table border=\"1\" class=\"dataframe\">\n",
       "  <thead>\n",
       "    <tr style=\"text-align: right;\">\n",
       "      <th></th>\n",
       "      <th>tconst</th>\n",
       "      <th>titleType</th>\n",
       "      <th>primaryTitle</th>\n",
       "      <th>originalTitle</th>\n",
       "      <th>isAdult</th>\n",
       "      <th>startYear</th>\n",
       "      <th>endYear</th>\n",
       "      <th>runtimeMinutes</th>\n",
       "      <th>genres</th>\n",
       "    </tr>\n",
       "  </thead>\n",
       "  <tbody>\n",
       "  </tbody>\n",
       "</table>\n",
       "</div>"
      ],
      "text/plain": [
       "Empty DataFrame\n",
       "Columns: [tconst, titleType, primaryTitle, originalTitle, isAdult, startYear, endYear, runtimeMinutes, genres]\n",
       "Index: []"
      ]
     },
     "execution_count": 294,
     "metadata": {},
     "output_type": "execute_result"
    }
   ],
   "source": [
    "df_basics.loc[pd.isnull(df_basics['runtimeMinutes'])]"
   ]
  },
  {
   "cell_type": "code",
   "execution_count": 295,
   "id": "466fee10-1874-41ee-83c4-da5cf5c1be9f",
   "metadata": {},
   "outputs": [
    {
     "data": {
      "text/html": [
       "<div>\n",
       "<style scoped>\n",
       "    .dataframe tbody tr th:only-of-type {\n",
       "        vertical-align: middle;\n",
       "    }\n",
       "\n",
       "    .dataframe tbody tr th {\n",
       "        vertical-align: top;\n",
       "    }\n",
       "\n",
       "    .dataframe thead th {\n",
       "        text-align: right;\n",
       "    }\n",
       "</style>\n",
       "<table border=\"1\" class=\"dataframe\">\n",
       "  <thead>\n",
       "    <tr style=\"text-align: right;\">\n",
       "      <th></th>\n",
       "      <th>tconst</th>\n",
       "      <th>titleType</th>\n",
       "      <th>primaryTitle</th>\n",
       "      <th>originalTitle</th>\n",
       "      <th>isAdult</th>\n",
       "      <th>startYear</th>\n",
       "      <th>endYear</th>\n",
       "      <th>runtimeMinutes</th>\n",
       "      <th>genres</th>\n",
       "    </tr>\n",
       "  </thead>\n",
       "  <tbody>\n",
       "    <tr>\n",
       "      <th>498</th>\n",
       "      <td>tt0000502</td>\n",
       "      <td>movie</td>\n",
       "      <td>Bohemios</td>\n",
       "      <td>Bohemios</td>\n",
       "      <td>0</td>\n",
       "      <td>1905</td>\n",
       "      <td>NaN</td>\n",
       "      <td>100</td>\n",
       "      <td>NaN</td>\n",
       "    </tr>\n",
       "    <tr>\n",
       "      <th>1616</th>\n",
       "      <td>tt0001630</td>\n",
       "      <td>movie</td>\n",
       "      <td>Der fremde Vogel</td>\n",
       "      <td>Der fremde Vogel</td>\n",
       "      <td>0</td>\n",
       "      <td>1911</td>\n",
       "      <td>NaN</td>\n",
       "      <td>45</td>\n",
       "      <td>NaN</td>\n",
       "    </tr>\n",
       "    <tr>\n",
       "      <th>1739</th>\n",
       "      <td>tt0001756</td>\n",
       "      <td>movie</td>\n",
       "      <td>Lucha por la herencia</td>\n",
       "      <td>Lucha por la herencia</td>\n",
       "      <td>0</td>\n",
       "      <td>1911</td>\n",
       "      <td>NaN</td>\n",
       "      <td>92</td>\n",
       "      <td>NaN</td>\n",
       "    </tr>\n",
       "    <tr>\n",
       "      <th>2069</th>\n",
       "      <td>tt0002094</td>\n",
       "      <td>movie</td>\n",
       "      <td>Charles IV</td>\n",
       "      <td>Charles IV</td>\n",
       "      <td>0</td>\n",
       "      <td>1912</td>\n",
       "      <td>NaN</td>\n",
       "      <td>50</td>\n",
       "      <td>NaN</td>\n",
       "    </tr>\n",
       "    <tr>\n",
       "      <th>2289</th>\n",
       "      <td>tt0002315</td>\n",
       "      <td>movie</td>\n",
       "      <td>El lobo de la sierra</td>\n",
       "      <td>El lobo de la sierra</td>\n",
       "      <td>0</td>\n",
       "      <td>1912</td>\n",
       "      <td>NaN</td>\n",
       "      <td>76</td>\n",
       "      <td>NaN</td>\n",
       "    </tr>\n",
       "    <tr>\n",
       "      <th>...</th>\n",
       "      <td>...</td>\n",
       "      <td>...</td>\n",
       "      <td>...</td>\n",
       "      <td>...</td>\n",
       "      <td>...</td>\n",
       "      <td>...</td>\n",
       "      <td>...</td>\n",
       "      <td>...</td>\n",
       "      <td>...</td>\n",
       "    </tr>\n",
       "    <tr>\n",
       "      <th>10247391</th>\n",
       "      <td>tt9913814</td>\n",
       "      <td>movie</td>\n",
       "      <td>Chikan densha: Muremure shanai</td>\n",
       "      <td>Chikan densha: Muremure shanai</td>\n",
       "      <td>0</td>\n",
       "      <td>1981</td>\n",
       "      <td>NaN</td>\n",
       "      <td>60</td>\n",
       "      <td>NaN</td>\n",
       "    </tr>\n",
       "    <tr>\n",
       "      <th>10247401</th>\n",
       "      <td>tt9913834</td>\n",
       "      <td>movie</td>\n",
       "      <td>Hiniku: Nure nawazeme</td>\n",
       "      <td>Hiniku: Nure nawazeme</td>\n",
       "      <td>0</td>\n",
       "      <td>1981</td>\n",
       "      <td>NaN</td>\n",
       "      <td>64</td>\n",
       "      <td>NaN</td>\n",
       "    </tr>\n",
       "    <tr>\n",
       "      <th>10247422</th>\n",
       "      <td>tt9913878</td>\n",
       "      <td>movie</td>\n",
       "      <td>Document porno: Yubi ijime</td>\n",
       "      <td>Document porno: Yubi ijime</td>\n",
       "      <td>0</td>\n",
       "      <td>1981</td>\n",
       "      <td>NaN</td>\n",
       "      <td>61</td>\n",
       "      <td>NaN</td>\n",
       "    </tr>\n",
       "    <tr>\n",
       "      <th>10247996</th>\n",
       "      <td>tt9915130</td>\n",
       "      <td>movie</td>\n",
       "      <td>Meet John Doe</td>\n",
       "      <td>Meet John Doe</td>\n",
       "      <td>0</td>\n",
       "      <td>NaN</td>\n",
       "      <td>NaN</td>\n",
       "      <td>120</td>\n",
       "      <td>NaN</td>\n",
       "    </tr>\n",
       "    <tr>\n",
       "      <th>10248437</th>\n",
       "      <td>tt9916134</td>\n",
       "      <td>movie</td>\n",
       "      <td>The Thing in the Bag</td>\n",
       "      <td>The Thing in the Bag</td>\n",
       "      <td>0</td>\n",
       "      <td>NaN</td>\n",
       "      <td>NaN</td>\n",
       "      <td>78</td>\n",
       "      <td>NaN</td>\n",
       "    </tr>\n",
       "  </tbody>\n",
       "</table>\n",
       "<p>80729 rows × 9 columns</p>\n",
       "</div>"
      ],
      "text/plain": [
       "             tconst titleType                    primaryTitle  \\\n",
       "498       tt0000502     movie                        Bohemios   \n",
       "1616      tt0001630     movie                Der fremde Vogel   \n",
       "1739      tt0001756     movie           Lucha por la herencia   \n",
       "2069      tt0002094     movie                      Charles IV   \n",
       "2289      tt0002315     movie            El lobo de la sierra   \n",
       "...             ...       ...                             ...   \n",
       "10247391  tt9913814     movie  Chikan densha: Muremure shanai   \n",
       "10247401  tt9913834     movie           Hiniku: Nure nawazeme   \n",
       "10247422  tt9913878     movie      Document porno: Yubi ijime   \n",
       "10247996  tt9915130     movie                   Meet John Doe   \n",
       "10248437  tt9916134     movie            The Thing in the Bag   \n",
       "\n",
       "                           originalTitle isAdult startYear endYear  \\\n",
       "498                             Bohemios       0      1905     NaN   \n",
       "1616                    Der fremde Vogel       0      1911     NaN   \n",
       "1739               Lucha por la herencia       0      1911     NaN   \n",
       "2069                          Charles IV       0      1912     NaN   \n",
       "2289                El lobo de la sierra       0      1912     NaN   \n",
       "...                                  ...     ...       ...     ...   \n",
       "10247391  Chikan densha: Muremure shanai       0      1981     NaN   \n",
       "10247401           Hiniku: Nure nawazeme       0      1981     NaN   \n",
       "10247422      Document porno: Yubi ijime       0      1981     NaN   \n",
       "10247996                   Meet John Doe       0       NaN     NaN   \n",
       "10248437            The Thing in the Bag       0       NaN     NaN   \n",
       "\n",
       "         runtimeMinutes genres  \n",
       "498                 100    NaN  \n",
       "1616                 45    NaN  \n",
       "1739                 92    NaN  \n",
       "2069                 50    NaN  \n",
       "2289                 76    NaN  \n",
       "...                 ...    ...  \n",
       "10247391             60    NaN  \n",
       "10247401             64    NaN  \n",
       "10247422             61    NaN  \n",
       "10247996            120    NaN  \n",
       "10248437             78    NaN  \n",
       "\n",
       "[80729 rows x 9 columns]"
      ]
     },
     "execution_count": 295,
     "metadata": {},
     "output_type": "execute_result"
    }
   ],
   "source": [
    "df_basics.loc[pd.isnull(df_basics['genres'])]"
   ]
  },
  {
   "cell_type": "code",
   "execution_count": 296,
   "id": "b5f973e9-ce3f-4086-ad42-5992629481d4",
   "metadata": {},
   "outputs": [
    {
     "data": {
      "text/plain": [
       "0           False\n",
       "1           False\n",
       "2           False\n",
       "3           False\n",
       "4           False\n",
       "            ...  \n",
       "10248731    False\n",
       "10248737    False\n",
       "10248772    False\n",
       "10248779    False\n",
       "10248780    False\n",
       "Name: genres, Length: 3090697, dtype: bool"
      ]
     },
     "execution_count": 296,
     "metadata": {},
     "output_type": "execute_result"
    }
   ],
   "source": [
    "#Eliminate movies that are null for genre\n",
    "df_basics_g_nulls = pd.isnull(df_basics['genres'])\n",
    "df_basics_g_nulls"
   ]
  },
  {
   "cell_type": "code",
   "execution_count": 297,
   "id": "b627ecf5-e207-4b15-a3af-46d5358c767e",
   "metadata": {},
   "outputs": [],
   "source": [
    "df_basics = df_basics[~df_basics_g_nulls]"
   ]
  },
  {
   "cell_type": "code",
   "execution_count": 298,
   "id": "758f1370-afc7-40c0-8255-78c28da9a2d1",
   "metadata": {},
   "outputs": [
    {
     "data": {
      "text/html": [
       "<div>\n",
       "<style scoped>\n",
       "    .dataframe tbody tr th:only-of-type {\n",
       "        vertical-align: middle;\n",
       "    }\n",
       "\n",
       "    .dataframe tbody tr th {\n",
       "        vertical-align: top;\n",
       "    }\n",
       "\n",
       "    .dataframe thead th {\n",
       "        text-align: right;\n",
       "    }\n",
       "</style>\n",
       "<table border=\"1\" class=\"dataframe\">\n",
       "  <thead>\n",
       "    <tr style=\"text-align: right;\">\n",
       "      <th></th>\n",
       "      <th>tconst</th>\n",
       "      <th>titleType</th>\n",
       "      <th>primaryTitle</th>\n",
       "      <th>originalTitle</th>\n",
       "      <th>isAdult</th>\n",
       "      <th>startYear</th>\n",
       "      <th>endYear</th>\n",
       "      <th>runtimeMinutes</th>\n",
       "      <th>genres</th>\n",
       "    </tr>\n",
       "  </thead>\n",
       "  <tbody>\n",
       "  </tbody>\n",
       "</table>\n",
       "</div>"
      ],
      "text/plain": [
       "Empty DataFrame\n",
       "Columns: [tconst, titleType, primaryTitle, originalTitle, isAdult, startYear, endYear, runtimeMinutes, genres]\n",
       "Index: []"
      ]
     },
     "execution_count": 298,
     "metadata": {},
     "output_type": "execute_result"
    }
   ],
   "source": [
    "df_basics.loc[pd.isnull(df_basics['genres'])]"
   ]
  },
  {
   "cell_type": "code",
   "execution_count": 299,
   "id": "2f5a7d32-34b6-4d1a-b24d-b9f247f21bcd",
   "metadata": {},
   "outputs": [
    {
     "data": {
      "text/plain": [
       "tvEpisode       1584476\n",
       "short            617188\n",
       "movie            390813\n",
       "video            185720\n",
       "tvMovie           92917\n",
       "tvSeries          92451\n",
       "tvSpecial         19226\n",
       "tvMiniSeries      18091\n",
       "tvShort            8747\n",
       "videoGame           339\n",
       "Name: titleType, dtype: int64"
      ]
     },
     "execution_count": 299,
     "metadata": {},
     "output_type": "execute_result"
    }
   ],
   "source": [
    "df_basics['titleType'].value_counts()"
   ]
  },
  {
   "cell_type": "code",
   "execution_count": 300,
   "id": "5283046f-0d5c-4297-9913-abe9a5be894a",
   "metadata": {},
   "outputs": [
    {
     "data": {
      "text/html": [
       "<div>\n",
       "<style scoped>\n",
       "    .dataframe tbody tr th:only-of-type {\n",
       "        vertical-align: middle;\n",
       "    }\n",
       "\n",
       "    .dataframe tbody tr th {\n",
       "        vertical-align: top;\n",
       "    }\n",
       "\n",
       "    .dataframe thead th {\n",
       "        text-align: right;\n",
       "    }\n",
       "</style>\n",
       "<table border=\"1\" class=\"dataframe\">\n",
       "  <thead>\n",
       "    <tr style=\"text-align: right;\">\n",
       "      <th></th>\n",
       "      <th>tconst</th>\n",
       "      <th>titleType</th>\n",
       "      <th>primaryTitle</th>\n",
       "      <th>originalTitle</th>\n",
       "      <th>isAdult</th>\n",
       "      <th>startYear</th>\n",
       "      <th>endYear</th>\n",
       "      <th>runtimeMinutes</th>\n",
       "      <th>genres</th>\n",
       "    </tr>\n",
       "  </thead>\n",
       "  <tbody>\n",
       "    <tr>\n",
       "      <th>8</th>\n",
       "      <td>tt0000009</td>\n",
       "      <td>movie</td>\n",
       "      <td>Miss Jerry</td>\n",
       "      <td>Miss Jerry</td>\n",
       "      <td>0</td>\n",
       "      <td>1894</td>\n",
       "      <td>NaN</td>\n",
       "      <td>45</td>\n",
       "      <td>Romance</td>\n",
       "    </tr>\n",
       "    <tr>\n",
       "      <th>144</th>\n",
       "      <td>tt0000147</td>\n",
       "      <td>movie</td>\n",
       "      <td>The Corbett-Fitzsimmons Fight</td>\n",
       "      <td>The Corbett-Fitzsimmons Fight</td>\n",
       "      <td>0</td>\n",
       "      <td>1897</td>\n",
       "      <td>NaN</td>\n",
       "      <td>100</td>\n",
       "      <td>Documentary,News,Sport</td>\n",
       "    </tr>\n",
       "    <tr>\n",
       "      <th>570</th>\n",
       "      <td>tt0000574</td>\n",
       "      <td>movie</td>\n",
       "      <td>The Story of the Kelly Gang</td>\n",
       "      <td>The Story of the Kelly Gang</td>\n",
       "      <td>0</td>\n",
       "      <td>1906</td>\n",
       "      <td>NaN</td>\n",
       "      <td>70</td>\n",
       "      <td>Action,Adventure,Biography</td>\n",
       "    </tr>\n",
       "    <tr>\n",
       "      <th>587</th>\n",
       "      <td>tt0000591</td>\n",
       "      <td>movie</td>\n",
       "      <td>The Prodigal Son</td>\n",
       "      <td>L'enfant prodigue</td>\n",
       "      <td>0</td>\n",
       "      <td>1907</td>\n",
       "      <td>NaN</td>\n",
       "      <td>90</td>\n",
       "      <td>Drama</td>\n",
       "    </tr>\n",
       "    <tr>\n",
       "      <th>672</th>\n",
       "      <td>tt0000679</td>\n",
       "      <td>movie</td>\n",
       "      <td>The Fairylogue and Radio-Plays</td>\n",
       "      <td>The Fairylogue and Radio-Plays</td>\n",
       "      <td>0</td>\n",
       "      <td>1908</td>\n",
       "      <td>NaN</td>\n",
       "      <td>120</td>\n",
       "      <td>Adventure,Fantasy</td>\n",
       "    </tr>\n",
       "    <tr>\n",
       "      <th>...</th>\n",
       "      <td>...</td>\n",
       "      <td>...</td>\n",
       "      <td>...</td>\n",
       "      <td>...</td>\n",
       "      <td>...</td>\n",
       "      <td>...</td>\n",
       "      <td>...</td>\n",
       "      <td>...</td>\n",
       "      <td>...</td>\n",
       "    </tr>\n",
       "    <tr>\n",
       "      <th>10248631</th>\n",
       "      <td>tt9916538</td>\n",
       "      <td>movie</td>\n",
       "      <td>Kuambil Lagi Hatiku</td>\n",
       "      <td>Kuambil Lagi Hatiku</td>\n",
       "      <td>0</td>\n",
       "      <td>2019</td>\n",
       "      <td>NaN</td>\n",
       "      <td>123</td>\n",
       "      <td>Drama</td>\n",
       "    </tr>\n",
       "    <tr>\n",
       "      <th>10248672</th>\n",
       "      <td>tt9916622</td>\n",
       "      <td>movie</td>\n",
       "      <td>Rodolpho Teóphilo - O Legado de um Pioneiro</td>\n",
       "      <td>Rodolpho Teóphilo - O Legado de um Pioneiro</td>\n",
       "      <td>0</td>\n",
       "      <td>2015</td>\n",
       "      <td>NaN</td>\n",
       "      <td>57</td>\n",
       "      <td>Documentary</td>\n",
       "    </tr>\n",
       "    <tr>\n",
       "      <th>10248699</th>\n",
       "      <td>tt9916680</td>\n",
       "      <td>movie</td>\n",
       "      <td>De la ilusión al desconcierto: cine colombiano...</td>\n",
       "      <td>De la ilusión al desconcierto: cine colombiano...</td>\n",
       "      <td>0</td>\n",
       "      <td>2007</td>\n",
       "      <td>NaN</td>\n",
       "      <td>100</td>\n",
       "      <td>Documentary</td>\n",
       "    </tr>\n",
       "    <tr>\n",
       "      <th>10248721</th>\n",
       "      <td>tt9916730</td>\n",
       "      <td>movie</td>\n",
       "      <td>6 Gunn</td>\n",
       "      <td>6 Gunn</td>\n",
       "      <td>0</td>\n",
       "      <td>2017</td>\n",
       "      <td>NaN</td>\n",
       "      <td>116</td>\n",
       "      <td>Drama</td>\n",
       "    </tr>\n",
       "    <tr>\n",
       "      <th>10248731</th>\n",
       "      <td>tt9916754</td>\n",
       "      <td>movie</td>\n",
       "      <td>Chico Albuquerque - Revelações</td>\n",
       "      <td>Chico Albuquerque - Revelações</td>\n",
       "      <td>0</td>\n",
       "      <td>2013</td>\n",
       "      <td>NaN</td>\n",
       "      <td>49</td>\n",
       "      <td>Documentary</td>\n",
       "    </tr>\n",
       "  </tbody>\n",
       "</table>\n",
       "<p>390813 rows × 9 columns</p>\n",
       "</div>"
      ],
      "text/plain": [
       "             tconst titleType  \\\n",
       "8         tt0000009     movie   \n",
       "144       tt0000147     movie   \n",
       "570       tt0000574     movie   \n",
       "587       tt0000591     movie   \n",
       "672       tt0000679     movie   \n",
       "...             ...       ...   \n",
       "10248631  tt9916538     movie   \n",
       "10248672  tt9916622     movie   \n",
       "10248699  tt9916680     movie   \n",
       "10248721  tt9916730     movie   \n",
       "10248731  tt9916754     movie   \n",
       "\n",
       "                                               primaryTitle  \\\n",
       "8                                                Miss Jerry   \n",
       "144                           The Corbett-Fitzsimmons Fight   \n",
       "570                             The Story of the Kelly Gang   \n",
       "587                                        The Prodigal Son   \n",
       "672                          The Fairylogue and Radio-Plays   \n",
       "...                                                     ...   \n",
       "10248631                                Kuambil Lagi Hatiku   \n",
       "10248672        Rodolpho Teóphilo - O Legado de um Pioneiro   \n",
       "10248699  De la ilusión al desconcierto: cine colombiano...   \n",
       "10248721                                             6 Gunn   \n",
       "10248731                     Chico Albuquerque - Revelações   \n",
       "\n",
       "                                              originalTitle isAdult startYear  \\\n",
       "8                                                Miss Jerry       0      1894   \n",
       "144                           The Corbett-Fitzsimmons Fight       0      1897   \n",
       "570                             The Story of the Kelly Gang       0      1906   \n",
       "587                                       L'enfant prodigue       0      1907   \n",
       "672                          The Fairylogue and Radio-Plays       0      1908   \n",
       "...                                                     ...     ...       ...   \n",
       "10248631                                Kuambil Lagi Hatiku       0      2019   \n",
       "10248672        Rodolpho Teóphilo - O Legado de um Pioneiro       0      2015   \n",
       "10248699  De la ilusión al desconcierto: cine colombiano...       0      2007   \n",
       "10248721                                             6 Gunn       0      2017   \n",
       "10248731                     Chico Albuquerque - Revelações       0      2013   \n",
       "\n",
       "         endYear runtimeMinutes                      genres  \n",
       "8            NaN             45                     Romance  \n",
       "144          NaN            100      Documentary,News,Sport  \n",
       "570          NaN             70  Action,Adventure,Biography  \n",
       "587          NaN             90                       Drama  \n",
       "672          NaN            120           Adventure,Fantasy  \n",
       "...          ...            ...                         ...  \n",
       "10248631     NaN            123                       Drama  \n",
       "10248672     NaN             57                 Documentary  \n",
       "10248699     NaN            100                 Documentary  \n",
       "10248721     NaN            116                       Drama  \n",
       "10248731     NaN             49                 Documentary  \n",
       "\n",
       "[390813 rows x 9 columns]"
      ]
     },
     "execution_count": 300,
     "metadata": {},
     "output_type": "execute_result"
    }
   ],
   "source": [
    "df_basics.loc[(df_basics['titleType'] == 'movie')]"
   ]
  },
  {
   "cell_type": "code",
   "execution_count": 301,
   "id": "833ef599-9ba4-47ce-9202-e1e1d129d8ba",
   "metadata": {},
   "outputs": [],
   "source": [
    "#keep only titleType==Movie\n",
    "df_basics = df_basics.loc[(df_basics['titleType'] == 'movie')]"
   ]
  },
  {
   "cell_type": "code",
   "execution_count": 302,
   "id": "1a95c31e-86ce-44f3-9c63-c0b003415abc",
   "metadata": {},
   "outputs": [
    {
     "data": {
      "text/plain": [
       "movie    390813\n",
       "Name: titleType, dtype: int64"
      ]
     },
     "execution_count": 302,
     "metadata": {},
     "output_type": "execute_result"
    }
   ],
   "source": [
    "df_basics['titleType'].value_counts()"
   ]
  },
  {
   "cell_type": "code",
   "execution_count": 303,
   "id": "4928ff4d-597a-4bef-b2dd-3f37c0aeca36",
   "metadata": {},
   "outputs": [
    {
     "data": {
      "text/plain": [
       "2018    14444\n",
       "2017    14431\n",
       "2019    14189\n",
       "2016    14015\n",
       "2015    13537\n",
       "        ...  \n",
       "1894        1\n",
       "1899        1\n",
       "1904        1\n",
       "1897        1\n",
       "2028        1\n",
       "Name: startYear, Length: 132, dtype: int64"
      ]
     },
     "execution_count": 303,
     "metadata": {},
     "output_type": "execute_result"
    }
   ],
   "source": [
    "#keep startYear 2000-2022\n",
    "df_basics['startYear'].value_counts()"
   ]
  },
  {
   "cell_type": "code",
   "execution_count": 304,
   "id": "89bb7fef-eb0c-4458-a065-49a06bb19aa3",
   "metadata": {},
   "outputs": [
    {
     "name": "stdout",
     "output_type": "stream",
     "text": [
      "8           False\n",
      "144         False\n",
      "570         False\n",
      "587         False\n",
      "672         False\n",
      "            ...  \n",
      "10248631     True\n",
      "10248672     True\n",
      "10248699     True\n",
      "10248721     True\n",
      "10248731     True\n",
      "Name: startYear, Length: 390813, dtype: bool\n"
     ]
    }
   ],
   "source": [
    "year_filter = ((df_basics['startYear'] > '1999') & (df_basics['startYear'] < '2023'))\n",
    "print(year_filter)"
   ]
  },
  {
   "cell_type": "code",
   "execution_count": 305,
   "id": "53f1f309-abd3-469a-a46d-ad517de2919f",
   "metadata": {},
   "outputs": [],
   "source": [
    "df_basics = df_basics.loc[year_filter]"
   ]
  },
  {
   "cell_type": "code",
   "execution_count": 306,
   "id": "8ed27f79-4ce3-4256-951d-8967826d0765",
   "metadata": {},
   "outputs": [
    {
     "data": {
      "text/plain": [
       "2000     3667\n",
       "2001     3900\n",
       "2002     4156\n",
       "2003     4634\n",
       "2004     5236\n",
       "2005     5876\n",
       "2006     6568\n",
       "2007     7000\n",
       "2008     8207\n",
       "2009     9404\n",
       "2010    10250\n",
       "2011    10810\n",
       "2012    11688\n",
       "2013    12425\n",
       "2014    13174\n",
       "2015    13537\n",
       "2016    14015\n",
       "2017    14431\n",
       "2018    14444\n",
       "2019    14189\n",
       "2020    11666\n",
       "2021    12560\n",
       "2022    13332\n",
       "Name: startYear, dtype: int64"
      ]
     },
     "execution_count": 306,
     "metadata": {},
     "output_type": "execute_result"
    }
   ],
   "source": [
    "#keep startYear 2000-2022\n",
    "df_basics['startYear'].value_counts().sort_values().sort_index(0)"
   ]
  },
  {
   "cell_type": "code",
   "execution_count": 307,
   "id": "437ac978-7c6b-46e6-8d32-fd8598f33b28",
   "metadata": {},
   "outputs": [
    {
     "data": {
      "text/plain": [
       "(225169, 9)"
      ]
     },
     "execution_count": 307,
     "metadata": {},
     "output_type": "execute_result"
    }
   ],
   "source": [
    "df_basics.shape"
   ]
  },
  {
   "cell_type": "code",
   "execution_count": 308,
   "id": "b3cbfd2a-d92c-499c-bb4f-cad30a376b61",
   "metadata": {},
   "outputs": [
    {
     "data": {
      "text/plain": [
       "False    148585\n",
       "True      76584\n",
       "Name: genres, dtype: int64"
      ]
     },
     "execution_count": 308,
     "metadata": {},
     "output_type": "execute_result"
    }
   ],
   "source": [
    "is_documentary = df_basics['genres'].str.contains('documentary',case=False)\n",
    "is_documentary.value_counts()"
   ]
  },
  {
   "cell_type": "code",
   "execution_count": 309,
   "id": "37a6bcbb-299d-47a7-8540-b72acd330cd0",
   "metadata": {},
   "outputs": [],
   "source": [
    "#Eliminate movies that include \"Documentary\" in genre\n",
    "#is_documentary = df_basics['genres'].str.contains('documentary',case=False)\n",
    "df_basics = df_basics[~is_documentary]"
   ]
  },
  {
   "cell_type": "code",
   "execution_count": 310,
   "id": "94c21272-242b-4514-b1f3-7e226ab86f4f",
   "metadata": {},
   "outputs": [
    {
     "data": {
      "text/plain": [
       "(148585, 9)"
      ]
     },
     "execution_count": 310,
     "metadata": {},
     "output_type": "execute_result"
    }
   ],
   "source": [
    "df_basics.shape"
   ]
  },
  {
   "cell_type": "code",
   "execution_count": 311,
   "id": "c753cfdf-60e4-4b6a-8e23-cd0927d016e4",
   "metadata": {},
   "outputs": [
    {
     "data": {
      "text/plain": [
       "True     147877\n",
       "False       708\n",
       "Name: tconst, dtype: int64"
      ]
     },
     "execution_count": 311,
     "metadata": {},
     "output_type": "execute_result"
    }
   ],
   "source": [
    "#Keep only US movies\n",
    "# Filter the basics table down to only include the US by using the filter akas dataframe\n",
    "keepers =df_basics['tconst'].isin(df_akas['titleId'])\n",
    "keepers.value_counts()"
   ]
  },
  {
   "cell_type": "code",
   "execution_count": 312,
   "id": "610ae683-494c-4149-ae8e-b8f097eb9c46",
   "metadata": {},
   "outputs": [
    {
     "data": {
      "text/plain": [
       "(147877, 9)"
      ]
     },
     "execution_count": 312,
     "metadata": {},
     "output_type": "execute_result"
    }
   ],
   "source": [
    "df_basics = df_basics[keepers]\n",
    "df_basics.shape"
   ]
  },
  {
   "cell_type": "code",
   "execution_count": 313,
   "id": "e545474c-dceb-4069-8058-ab1edec21f5b",
   "metadata": {},
   "outputs": [
    {
     "data": {
      "text/plain": [
       "False    36054859\n",
       "True      1472351\n",
       "Name: region, dtype: int64"
      ]
     },
     "execution_count": 313,
     "metadata": {},
     "output_type": "execute_result"
    }
   ],
   "source": [
    "#AKAS\n",
    "(df_akas['region'] == 'US').value_counts()"
   ]
  },
  {
   "cell_type": "code",
   "execution_count": 314,
   "id": "25dd8bb4-b8bc-4068-8b90-125661e2b4d1",
   "metadata": {},
   "outputs": [
    {
     "data": {
      "text/plain": [
       "(1472351, 8)"
      ]
     },
     "execution_count": 314,
     "metadata": {},
     "output_type": "execute_result"
    }
   ],
   "source": [
    "#keep only US movies.\n",
    "df_akas = df_akas.loc[(df_akas['region'] == 'US')]\n",
    "df_akas.shape"
   ]
  },
  {
   "cell_type": "code",
   "execution_count": 315,
   "id": "2251ce72-450f-4595-a7c0-0e6b2093f946",
   "metadata": {},
   "outputs": [
    {
     "data": {
      "text/html": [
       "<div>\n",
       "<style scoped>\n",
       "    .dataframe tbody tr th:only-of-type {\n",
       "        vertical-align: middle;\n",
       "    }\n",
       "\n",
       "    .dataframe tbody tr th {\n",
       "        vertical-align: top;\n",
       "    }\n",
       "\n",
       "    .dataframe thead th {\n",
       "        text-align: right;\n",
       "    }\n",
       "</style>\n",
       "<table border=\"1\" class=\"dataframe\">\n",
       "  <thead>\n",
       "    <tr style=\"text-align: right;\">\n",
       "      <th></th>\n",
       "      <th>titleId</th>\n",
       "      <th>ordering</th>\n",
       "      <th>title</th>\n",
       "      <th>region</th>\n",
       "      <th>language</th>\n",
       "      <th>types</th>\n",
       "      <th>attributes</th>\n",
       "      <th>isOriginalTitle</th>\n",
       "    </tr>\n",
       "  </thead>\n",
       "  <tbody>\n",
       "    <tr>\n",
       "      <th>5</th>\n",
       "      <td>tt0000001</td>\n",
       "      <td>6</td>\n",
       "      <td>Carmencita</td>\n",
       "      <td>US</td>\n",
       "      <td>NaN</td>\n",
       "      <td>imdbDisplay</td>\n",
       "      <td>NaN</td>\n",
       "      <td>0</td>\n",
       "    </tr>\n",
       "    <tr>\n",
       "      <th>14</th>\n",
       "      <td>tt0000002</td>\n",
       "      <td>7</td>\n",
       "      <td>The Clown and His Dogs</td>\n",
       "      <td>US</td>\n",
       "      <td>NaN</td>\n",
       "      <td>NaN</td>\n",
       "      <td>literal English title</td>\n",
       "      <td>0</td>\n",
       "    </tr>\n",
       "    <tr>\n",
       "      <th>33</th>\n",
       "      <td>tt0000005</td>\n",
       "      <td>10</td>\n",
       "      <td>Blacksmith Scene</td>\n",
       "      <td>US</td>\n",
       "      <td>NaN</td>\n",
       "      <td>imdbDisplay</td>\n",
       "      <td>NaN</td>\n",
       "      <td>0</td>\n",
       "    </tr>\n",
       "    <tr>\n",
       "      <th>36</th>\n",
       "      <td>tt0000005</td>\n",
       "      <td>1</td>\n",
       "      <td>Blacksmithing Scene</td>\n",
       "      <td>US</td>\n",
       "      <td>NaN</td>\n",
       "      <td>alternative</td>\n",
       "      <td>NaN</td>\n",
       "      <td>0</td>\n",
       "    </tr>\n",
       "    <tr>\n",
       "      <th>41</th>\n",
       "      <td>tt0000005</td>\n",
       "      <td>6</td>\n",
       "      <td>Blacksmith Scene #1</td>\n",
       "      <td>US</td>\n",
       "      <td>NaN</td>\n",
       "      <td>alternative</td>\n",
       "      <td>NaN</td>\n",
       "      <td>0</td>\n",
       "    </tr>\n",
       "  </tbody>\n",
       "</table>\n",
       "</div>"
      ],
      "text/plain": [
       "      titleId  ordering                   title region language        types  \\\n",
       "5   tt0000001         6              Carmencita     US      NaN  imdbDisplay   \n",
       "14  tt0000002         7  The Clown and His Dogs     US      NaN          NaN   \n",
       "33  tt0000005        10        Blacksmith Scene     US      NaN  imdbDisplay   \n",
       "36  tt0000005         1     Blacksmithing Scene     US      NaN  alternative   \n",
       "41  tt0000005         6     Blacksmith Scene #1     US      NaN  alternative   \n",
       "\n",
       "               attributes isOriginalTitle  \n",
       "5                     NaN               0  \n",
       "14  literal English title               0  \n",
       "33                    NaN               0  \n",
       "36                    NaN               0  \n",
       "41                    NaN               0  "
      ]
     },
     "execution_count": 315,
     "metadata": {},
     "output_type": "execute_result"
    }
   ],
   "source": [
    "#Replace \"\\N\" with np.nan\n",
    "df_akas.replace({'\\\\N':np.nan}, inplace = True)\n",
    "df_akas.head()"
   ]
  },
  {
   "cell_type": "code",
   "execution_count": 316,
   "id": "8d794043-e4be-4c9c-9e89-a18879f09a7b",
   "metadata": {},
   "outputs": [
    {
     "name": "stdout",
     "output_type": "stream",
     "text": [
      "Empty DataFrame\n",
      "Columns: [tconst, averageRating, numVotes]\n",
      "Index: []\n",
      "Empty DataFrame\n",
      "Columns: [tconst, averageRating, numVotes]\n",
      "Index: []\n",
      "Empty DataFrame\n",
      "Columns: [tconst, averageRating, numVotes]\n",
      "Index: []\n"
     ]
    }
   ],
   "source": [
    "for i in df_ratings.columns:\n",
    "    n_check = df_ratings.loc[(df_ratings[i] == '\\\\N')]\n",
    "    print(n_check)\n",
    "    "
   ]
  },
  {
   "cell_type": "code",
   "execution_count": 317,
   "id": "f49d5d83-e2b2-414f-b764-ab6b72e7d675",
   "metadata": {},
   "outputs": [],
   "source": [
    "#Ratings\n",
    "#Replace \"\\N\" with np.nan (if any)\n",
    "#No placeholder values to replace"
   ]
  },
  {
   "cell_type": "code",
   "execution_count": 318,
   "id": "57e83559-9d3b-403c-8e19-e6e571f6671b",
   "metadata": {},
   "outputs": [
    {
     "data": {
      "text/plain": [
       "(1360556, 3)"
      ]
     },
     "execution_count": 318,
     "metadata": {},
     "output_type": "execute_result"
    }
   ],
   "source": [
    "df_ratings.shape"
   ]
  },
  {
   "cell_type": "code",
   "execution_count": 319,
   "id": "ab740738-743e-4570-8750-e9c781f7bd28",
   "metadata": {},
   "outputs": [
    {
     "data": {
      "text/plain": [
       "False    848486\n",
       "True     512070\n",
       "Name: tconst, dtype: int64"
      ]
     },
     "execution_count": 319,
     "metadata": {},
     "output_type": "execute_result"
    }
   ],
   "source": [
    "#Keep only US movies\n",
    "keepers_ratings =df_ratings['tconst'].isin(df_akas['titleId'])\n",
    "keepers_ratings.value_counts()"
   ]
  },
  {
   "cell_type": "code",
   "execution_count": 320,
   "id": "449551c8-ed29-4f35-8531-f1733f7a2187",
   "metadata": {},
   "outputs": [
    {
     "data": {
      "text/plain": [
       "(512070, 3)"
      ]
     },
     "execution_count": 320,
     "metadata": {},
     "output_type": "execute_result"
    }
   ],
   "source": [
    "df_ratings = df_ratings[keepers_ratings]\n",
    "df_ratings.shape"
   ]
  }
 ],
 "metadata": {
  "kernelspec": {
   "display_name": "Python (dojo-env)",
   "language": "python",
   "name": "dojo-env"
  },
  "language_info": {
   "codemirror_mode": {
    "name": "ipython",
    "version": 3
   },
   "file_extension": ".py",
   "mimetype": "text/x-python",
   "name": "python",
   "nbconvert_exporter": "python",
   "pygments_lexer": "ipython3",
   "version": "3.10.10"
  },
  "widgets": {
   "application/vnd.jupyter.widget-state+json": {
    "state": {},
    "version_major": 2,
    "version_minor": 0
   }
  }
 },
 "nbformat": 4,
 "nbformat_minor": 5
}
